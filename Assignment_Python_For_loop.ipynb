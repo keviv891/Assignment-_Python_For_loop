{
 "cells": [
  {
   "cell_type": "markdown",
   "id": "0fc02148-d06d-4533-b7db-1e24594ccd85",
   "metadata": {},
   "source": [
    "1.Print numbers from 1 to 10 using a for loop:"
   ]
  },
  {
   "cell_type": "code",
   "execution_count": 1,
   "id": "6fd73eda-9774-49c4-802e-7322d9d0fc99",
   "metadata": {},
   "outputs": [
    {
     "name": "stdout",
     "output_type": "stream",
     "text": [
      "1\n",
      "2\n",
      "3\n",
      "4\n",
      "5\n",
      "6\n",
      "7\n",
      "8\n",
      "9\n",
      "10\n"
     ]
    }
   ],
   "source": [
    "for i in range(1, 11):\n",
    "    print(i)"
   ]
  },
  {
   "cell_type": "code",
   "execution_count": 2,
   "id": "efaea86a-f80c-4b81-b826-0eaea4194da8",
   "metadata": {},
   "outputs": [
    {
     "name": "stdout",
     "output_type": "stream",
     "text": [
      "Sum: 15\n"
     ]
    }
   ],
   "source": [
    "#2.Calculate the sum of all numbers in a list using a for loop:\n",
    "numbers = [1, 2, 3, 4, 5]\n",
    "total = 0\n",
    "\n",
    "for num in numbers:\n",
    "    total += num\n",
    "\n",
    "print(\"Sum:\", total)\n",
    "\n"
   ]
  },
  {
   "cell_type": "code",
   "execution_count": 3,
   "id": "0250ff2f-f60e-4355-9832-023205758eba",
   "metadata": {},
   "outputs": [
    {
     "name": "stdout",
     "output_type": "stream",
     "text": [
      "!\n",
      "d\n",
      "l\n",
      "r\n",
      "o\n",
      "W\n",
      " \n",
      ",\n",
      "o\n",
      "l\n",
      "l\n",
      "e\n",
      "H\n"
     ]
    }
   ],
   "source": [
    "#3.Print the characters of a string in reverse order using a for loop:\n",
    "text = \"Hello, World!\"\n",
    "for char in text[::-1]:\n",
    "    print(char)\n"
   ]
  },
  {
   "cell_type": "code",
   "execution_count": 4,
   "id": "268f3064-ab2b-4b0f-9412-f4dd74bbb347",
   "metadata": {},
   "outputs": [
    {
     "name": "stdin",
     "output_type": "stream",
     "text": [
      "Enter a number:  5\n"
     ]
    },
    {
     "name": "stdout",
     "output_type": "stream",
     "text": [
      "Factorial: 120\n"
     ]
    }
   ],
   "source": [
    "#4.Find the factorial of a given number using a for loop:\n",
    "n = int(input(\"Enter a number: \"))\n",
    "factorial = 1\n",
    "\n",
    "for i in range(1, n + 1):\n",
    "    factorial *= i\n",
    "\n",
    "print(\"Factorial:\", factorial)\n"
   ]
  },
  {
   "cell_type": "code",
   "execution_count": 5,
   "id": "64c608c4-b8b1-438a-9ad5-b4d88e31a876",
   "metadata": {},
   "outputs": [
    {
     "name": "stdin",
     "output_type": "stream",
     "text": [
      "Enter a number:  2\n"
     ]
    },
    {
     "name": "stdout",
     "output_type": "stream",
     "text": [
      "2 x 1 = 2\n",
      "2 x 2 = 4\n",
      "2 x 3 = 6\n",
      "2 x 4 = 8\n",
      "2 x 5 = 10\n",
      "2 x 6 = 12\n",
      "2 x 7 = 14\n",
      "2 x 8 = 16\n",
      "2 x 9 = 18\n",
      "2 x 10 = 20\n"
     ]
    }
   ],
   "source": [
    "#5.Print the multiplication table of a given number using a for loop:\n",
    "n = int(input(\"Enter a number: \"))\n",
    "\n",
    "for i in range(1, 11):\n",
    "    print(f\"{n} x {i} = {n * i}\")"
   ]
  },
  {
   "cell_type": "code",
   "execution_count": 6,
   "id": "d39e0229-5c88-4811-ad27-136bd00d8e25",
   "metadata": {},
   "outputs": [
    {
     "name": "stdout",
     "output_type": "stream",
     "text": [
      "Even numbers: 4\n",
      "Odd numbers: 5\n"
     ]
    }
   ],
   "source": [
    "#6.Count the number of even and odd numbers in a list using a for loop:\n",
    "numbers = [1, 2, 3, 4, 5, 6, 7, 8, 9]\n",
    "even_count = 0\n",
    "odd_count = 0\n",
    "\n",
    "for num in numbers:\n",
    "    if num % 2 == 0:\n",
    "        even_count += 1\n",
    "    else:\n",
    "        odd_count += 1\n",
    "\n",
    "print(\"Even numbers:\", even_count)\n",
    "print(\"Odd numbers:\", odd_count)\n"
   ]
  },
  {
   "cell_type": "code",
   "execution_count": 8,
   "id": "d44d835a-a584-4ce1-9098-d8da0cde3557",
   "metadata": {},
   "outputs": [
    {
     "name": "stdout",
     "output_type": "stream",
     "text": [
      "1 square is 1\n",
      "2 square is 4\n",
      "3 square is 9\n",
      "4 square is 16\n",
      "5 square is 25\n"
     ]
    }
   ],
   "source": [
    "#7.Print the squares of numbers from 1 to 5 using a for loop:\n",
    "for i in range(1, 6):\n",
    "    square = i * i\n",
    "    print(f\"{i} square is {square}\")\n",
    "\n"
   ]
  },
  {
   "cell_type": "code",
   "execution_count": 9,
   "id": "4fdd29c0-24cc-4828-b371-e1711ebaed77",
   "metadata": {},
   "outputs": [
    {
     "name": "stdout",
     "output_type": "stream",
     "text": [
      "Length: 13\n"
     ]
    }
   ],
   "source": [
    "#8.Find the length of a string without using the len() function:\n",
    "text = \"Hello, World!\"\n",
    "length = 0\n",
    "\n",
    "for char in text:\n",
    "    length += 1\n",
    "\n",
    "print(\"Length:\", length)\n"
   ]
  },
  {
   "cell_type": "code",
   "execution_count": 11,
   "id": "ec68bae1-2f8c-4c23-aa91-0ac86d22b90c",
   "metadata": {},
   "outputs": [
    {
     "name": "stdout",
     "output_type": "stream",
     "text": [
      "Average: 4.0\n"
     ]
    }
   ],
   "source": [
    "#9.Calculate the average of a list of numbers using a for loop:\n",
    "numbers = [1, 2, 3, 4, 5,9]\n",
    "total = 0\n",
    "length = 0\n",
    "\n",
    "for num in numbers:\n",
    "    total += num\n",
    "    length += 1\n",
    "\n",
    "average = total / length\n",
    "print(\"Average:\", average)\n"
   ]
  },
  {
   "cell_type": "code",
   "execution_count": 16,
   "id": "da272a87-5b8b-4109-bed8-d8f571b192c9",
   "metadata": {},
   "outputs": [
    {
     "name": "stdin",
     "output_type": "stream",
     "text": [
      "Enter the number of Fibonacci numbers to print:  7\n"
     ]
    },
    {
     "name": "stdout",
     "output_type": "stream",
     "text": [
      "0 1 1 2 3 5 8 "
     ]
    }
   ],
   "source": [
    "#10.Print the first n Fibonacci numbers using a for loop:\n",
    "n = int(input(\"Enter the number of Fibonacci numbers to print: \"))\n",
    "a, b = 0, 1\n",
    "\n",
    "for i in range(n):\n",
    "    print(a, end=\" \")\n",
    "    a, b = b, a + b\n"
   ]
  },
  {
   "cell_type": "raw",
   "id": "a87fbc2a-4550-4fa9-a630-6698e2dd0f48",
   "metadata": {},
   "source": [
    "INTERMEDIATE LEVEL"
   ]
  },
  {
   "cell_type": "code",
   "execution_count": 19,
   "id": "cbef02f4-2f82-494e-ac45-75787bd93a32",
   "metadata": {},
   "outputs": [
    {
     "name": "stdout",
     "output_type": "stream",
     "text": [
      "List does not contain duplicates\n"
     ]
    }
   ],
   "source": [
    "#11.Check if a given list contains any duplicates using a for loop:\n",
    "def has_duplicates(lst):\n",
    "    seen = set()\n",
    "    for item in lst:\n",
    "        if item in seen:\n",
    "            return True\n",
    "        seen.add(item)\n",
    "    return False\n",
    "\n",
    "my_list = [1, 2, 3,  4, 5]\n",
    "if has_duplicates(my_list):\n",
    "    print(\"List contains duplicates\")\n",
    "else:\n",
    "    print(\"List does not contain duplicates\")\n",
    "\n"
   ]
  },
  {
   "cell_type": "code",
   "execution_count": 21,
   "id": "d6145b72-d558-495c-a51a-b982fc14d613",
   "metadata": {},
   "outputs": [
    {
     "name": "stdin",
     "output_type": "stream",
     "text": [
      "Enter the starting range:  1\n",
      "Enter the ending range:  5\n"
     ]
    },
    {
     "name": "stdout",
     "output_type": "stream",
     "text": [
      "Prime numbers in the range:\n",
      "2\n",
      "3\n",
      "5\n"
     ]
    }
   ],
   "source": [
    "#12.Print prime numbers in a given range using a for loop:\n",
    "def is_prime(num):\n",
    "    if num <= 1:\n",
    "        return False\n",
    "    for i in range(2, int(num**0.5) + 1):\n",
    "        if num % i == 0:\n",
    "            return False\n",
    "    return True\n",
    "\n",
    "start = int(input(\"Enter the starting range: \"))\n",
    "end = int(input(\"Enter the ending range: \"))\n",
    "\n",
    "print(\"Prime numbers in the range:\")\n",
    "for num in range(start, end + 1):\n",
    "    if is_prime(num):\n",
    "        print(num)\n"
   ]
  },
  {
   "cell_type": "code",
   "execution_count": 22,
   "id": "a3f5c6b3-7c68-4e23-a59c-3a3be17e5d1f",
   "metadata": {},
   "outputs": [
    {
     "name": "stdout",
     "output_type": "stream",
     "text": [
      "Number of vowels: 3\n"
     ]
    }
   ],
   "source": [
    "#13.Count the number of vowels in a string using a for loop:\n",
    "text = \"Hello, World!\"\n",
    "vowels = \"AEIOUaeiou\"\n",
    "count = 0\n",
    "\n",
    "for char in text:\n",
    "    if char in vowels:\n",
    "        count += 1\n",
    "\n",
    "print(\"Number of vowels:\", count)\n"
   ]
  },
  {
   "cell_type": "code",
   "execution_count": 25,
   "id": "707139c7-59a4-4c70-aa0d-85f398153e57",
   "metadata": {},
   "outputs": [
    {
     "name": "stdout",
     "output_type": "stream",
     "text": [
      "Maximum element: 10\n"
     ]
    }
   ],
   "source": [
    "#14.Find the maximum element in a 2D list using a nested for loop:\n",
    "matrix = [[1, 2, 3], [4, 10, 6], [7, 8, 9]]\n",
    "max_element = matrix[0][0]\n",
    "\n",
    "for row in matrix:\n",
    "    for num in row:\n",
    "        if num > max_element:\n",
    "            max_element = num\n",
    "\n",
    "print(\"Maximum element:\", max_element)\n"
   ]
  },
  {
   "cell_type": "code",
   "execution_count": 26,
   "id": "be6482c3-f26d-4198-a7f4-768f502d0f7c",
   "metadata": {},
   "outputs": [
    {
     "name": "stdout",
     "output_type": "stream",
     "text": [
      "Original list: [1, 2, 2, 3, 4, 2, 5]\n",
      "List with element removed: [1, 3, 4, 5]\n"
     ]
    }
   ],
   "source": [
    "#15.Remove all occurrences of a specific element from a list using a for loop: \n",
    "my_list = [1, 2, 2, 3, 4, 2, 5]\n",
    "element_to_remove = 2\n",
    "\n",
    "new_list = []\n",
    "for item in my_list:\n",
    "    if item != element_to_remove:\n",
    "        new_list.append(item)\n",
    "\n",
    "print(\"Original list:\", my_list)\n",
    "print(\"List with element removed:\", new_list)\n",
    "\n",
    "\n"
   ]
  },
  {
   "cell_type": "code",
   "execution_count": 27,
   "id": "441b031a-aa60-43d1-8099-375f521871ed",
   "metadata": {},
   "outputs": [
    {
     "name": "stdout",
     "output_type": "stream",
     "text": [
      "1 x 1 = 1\n",
      "1 x 2 = 2\n",
      "1 x 3 = 3\n",
      "1 x 4 = 4\n",
      "1 x 5 = 5\n",
      "1 x 6 = 6\n",
      "1 x 7 = 7\n",
      "1 x 8 = 8\n",
      "1 x 9 = 9\n",
      "1 x 10 = 10\n",
      "\n",
      "2 x 1 = 2\n",
      "2 x 2 = 4\n",
      "2 x 3 = 6\n",
      "2 x 4 = 8\n",
      "2 x 5 = 10\n",
      "2 x 6 = 12\n",
      "2 x 7 = 14\n",
      "2 x 8 = 16\n",
      "2 x 9 = 18\n",
      "2 x 10 = 20\n",
      "\n",
      "3 x 1 = 3\n",
      "3 x 2 = 6\n",
      "3 x 3 = 9\n",
      "3 x 4 = 12\n",
      "3 x 5 = 15\n",
      "3 x 6 = 18\n",
      "3 x 7 = 21\n",
      "3 x 8 = 24\n",
      "3 x 9 = 27\n",
      "3 x 10 = 30\n",
      "\n",
      "4 x 1 = 4\n",
      "4 x 2 = 8\n",
      "4 x 3 = 12\n",
      "4 x 4 = 16\n",
      "4 x 5 = 20\n",
      "4 x 6 = 24\n",
      "4 x 7 = 28\n",
      "4 x 8 = 32\n",
      "4 x 9 = 36\n",
      "4 x 10 = 40\n",
      "\n",
      "5 x 1 = 5\n",
      "5 x 2 = 10\n",
      "5 x 3 = 15\n",
      "5 x 4 = 20\n",
      "5 x 5 = 25\n",
      "5 x 6 = 30\n",
      "5 x 7 = 35\n",
      "5 x 8 = 40\n",
      "5 x 9 = 45\n",
      "5 x 10 = 50\n",
      "\n"
     ]
    }
   ],
   "source": [
    "#16.Generate a multiplication table for numbers from 1 to 5 using a nested for loop:\n",
    "for i in range(1, 6):\n",
    "    for j in range(1, 11):\n",
    "        print(f\"{i} x {j} = {i * j}\")\n",
    "    print()  # Add an empty line between tables\n"
   ]
  },
  {
   "cell_type": "code",
   "execution_count": 46,
   "id": "ce0964f1-17ff-4778-9f3e-5f6b96d8e938",
   "metadata": {},
   "outputs": [
    {
     "name": "stdout",
     "output_type": "stream",
     "text": [
      "Fahrenheit Temperatures: [32, 68, 100, 212]\n",
      "Celsius Temperatures:[0.0, 20.0, 37.77777777777778, 100.0]\n"
     ]
    }
   ],
   "source": [
    "#17.Convert a list of Fahrenheit temperatures to Celsius using a for loop:\n",
    "fahrenheit_temperatures = [32, 68, 100, 212]\n",
    "celsius_temperatures = []\n",
    "\n",
    "for fahrenheit in fahrenheit_temperatures:\n",
    "    celsius = (fahrenheit - 32) * 5/9\n",
    "    celsius_temperatures.append(celsius)\n",
    "\n",
    "print(\"Fahrenheit Temperatures:\", fahrenheit_temperatures)\n",
    "#celsius_temperatures_string = ', '.join(f'{x:.2f}' for x in celsius_temperatures)\n",
    "print(f\"Celsius Temperatures:{celsius_temperatures}\")"
   ]
  },
  {
   "cell_type": "code",
   "execution_count": 48,
   "id": "c8d0d45c-4d57-4c97-aee8-3aa9f27e6ce9",
   "metadata": {},
   "outputs": [
    {
     "name": "stdout",
     "output_type": "stream",
     "text": [
      "Common elements: [3, 4]\n"
     ]
    }
   ],
   "source": [
    "#18.Print common elements from two lists using a for loop:\n",
    "list1 = [1, 2, 3, 4, 5]\n",
    "list2 = [3, 4, 8, 6, 7]\n",
    "\n",
    "common_elements = []\n",
    "\n",
    "for item in list1:\n",
    "    if item in list2:\n",
    "        common_elements.append(item)\n",
    "\n",
    "print(\"Common elements:\", common_elements)\n",
    "\n",
    "    "
   ]
  },
  {
   "cell_type": "code",
   "execution_count": 49,
   "id": "a7f05550-5665-4d14-961d-fcd1d1e07a45",
   "metadata": {},
   "outputs": [
    {
     "name": "stdin",
     "output_type": "stream",
     "text": [
      "enter number of rows: 3\n"
     ]
    },
    {
     "name": "stdout",
     "output_type": "stream",
     "text": [
      "*\n",
      "**\n",
      "***\n"
     ]
    }
   ],
   "source": [
    "#19.Print a pattern of right-angled triangles using a for loop:\n",
    "n = int(input(\"enter number of rows:\")) # Number of rows\n",
    "\n",
    "for i in range(1, n + 1):\n",
    "    print(\"*\" * i)\n"
   ]
  },
  {
   "cell_type": "code",
   "execution_count": 51,
   "id": "e58e13a2-fd30-4bd5-a430-5cd3eb93bed7",
   "metadata": {},
   "outputs": [
    {
     "name": "stdin",
     "output_type": "stream",
     "text": [
      "Enter the first number:  15\n",
      "Enter the second number:  6\n"
     ]
    },
    {
     "name": "stdout",
     "output_type": "stream",
     "text": [
      "GCD: 3\n"
     ]
    }
   ],
   "source": [
    "#20.Find the greatest common divisor (GCD) of two numbers using a for loop:\n",
    "def gcd(a, b):\n",
    "    while b != 0:\n",
    "        a, b = b, a % b\n",
    "    return a\n",
    "\n",
    "num1 = int(input(\"Enter the first number: \"))\n",
    "num2 = int(input(\"Enter the second number: \"))\n",
    "\n",
    "result = gcd(num1, num2)\n",
    "print(\"GCD:\", result)\n"
   ]
  },
  {
   "cell_type": "markdown",
   "id": "649dbb71-00ae-4042-8ef9-216f81553365",
   "metadata": {},
   "source": [
    "ADVANCED LEVEL"
   ]
  },
  {
   "cell_type": "code",
   "execution_count": 23,
   "id": "22df8eff-2ce3-4b06-80a5-6dde9edd8fc9",
   "metadata": {},
   "outputs": [
    {
     "name": "stdout",
     "output_type": "stream",
     "text": [
      "Number: 123, Digit Sum: 6\n",
      "Number: 45, Digit Sum: 9\n",
      "Number: 789, Digit Sum: 24\n",
      "Number: 12, Digit Sum: 3\n",
      "Number: 56, Digit Sum: 11\n"
     ]
    }
   ],
   "source": [
    "# 21Function to calculate the sum of digits of a number\n",
    "def digit_sum(number):\n",
    "    return sum(int(digit) for digit in str(number))\n",
    "\n",
    "# List of numbers\n",
    "numbers = [123, 45, 789, 12, 56]\n",
    "\n",
    "# Calculate the sum of digits for each number using a list comprehension\n",
    "digit_sums = [digit_sum(number) for number in numbers]\n",
    "\n",
    "# Print the original numbers and their corresponding digit sums\n",
    "for i in range(len(numbers)):\n",
    "    print(f\"Number: {numbers[i]}, Digit Sum: {digit_sums[i]}\")\n"
   ]
  },
  {
   "cell_type": "code",
   "execution_count": 1,
   "id": "ab3e8fd0-126e-47f0-87cf-7cef8d972c6e",
   "metadata": {},
   "outputs": [
    {
     "name": "stdin",
     "output_type": "stream",
     "text": [
      "Enter a number:  245\n"
     ]
    },
    {
     "name": "stdout",
     "output_type": "stream",
     "text": [
      "Prime factors of 245 are: [5, 7]\n"
     ]
    }
   ],
   "source": [
    "#22. Write a program to find the prime factors of a given number using a `for` loop and list comprehension..\n",
    "def is_prime(num):\n",
    "    if num <= 1:\n",
    "        return False\n",
    "    for i in range(2, int(num**0.5) + 1):\n",
    "        if num % i == 0:\n",
    "            return False\n",
    "    return True\n",
    "\n",
    "def prime_factors(n):\n",
    "    factors = [i for i in range(2, n + 1) if n % i == 0 and is_prime(i)]\n",
    "    return factors\n",
    "\n",
    "# Input the number\n",
    "number = int(input(\"Enter a number: \"))\n",
    "\n",
    "if number <= 1:\n",
    "    print(\"Prime factors cannot be found for numbers less than or equal to 1.\")\n",
    "else:\n",
    "    factors = prime_factors(number)\n",
    "    if len(factors) == 1 and number == factors[0]:\n",
    "        print(f\"{number} is a prime number,it has only one prime factor that is {factors} itself.\")\n",
    "    else:\n",
    "        print(f\"Prime factors of {number} are: {factors}\")\n"
   ]
  },
  {
   "cell_type": "code",
   "execution_count": 2,
   "id": "5f74f721-7f91-481e-9276-809f490c6760",
   "metadata": {},
   "outputs": [
    {
     "name": "stdout",
     "output_type": "stream",
     "text": [
      "Original List: [1, 2, 2, 3, 4, 4, 5, 6, 6, 7]\n",
      "Unique Elements: [1, 3, 5, 7]\n"
     ]
    }
   ],
   "source": [
    "# 23. Develop a program that extracts unique elements from a list and stores them in a new list using a list\n",
    "original_list = [1, 2, 2, 3, 4, 4, 5, 6, 6, 7]\n",
    "\n",
    "# Create a dictionary to track the count of each element\n",
    "element_count = {}\n",
    "\n",
    "# Iterate through the original list and count the elements\n",
    "for element in original_list:\n",
    "    if element in element_count:\n",
    "        element_count[element] += 1\n",
    "    else:\n",
    "        element_count[element] = 1\n",
    "\n",
    "# Create a new list with unique elements using a list comprehension\n",
    "unique_elements = [key for key, value in element_count.items() if value == 1]\n",
    "\n",
    "# Print the original list and the list with unique elements\n",
    "print(\"Original List:\", original_list)\n",
    "print(\"Unique Elements:\", unique_elements)\n",
    "\n"
   ]
  },
  {
   "cell_type": "code",
   "execution_count": 4,
   "id": "09b1c372-b546-496c-bfb7-5c2e95c9da9b",
   "metadata": {},
   "outputs": [
    {
     "name": "stdin",
     "output_type": "stream",
     "text": [
      "enter start number: 250\n",
      "enter end number: 450\n"
     ]
    },
    {
     "name": "stdout",
     "output_type": "stream",
     "text": [
      "[252, 262, 272, 282, 292, 303, 313, 323, 333, 343, 353, 363, 373, 383, 393, 404, 414, 424, 434, 444]\n"
     ]
    }
   ],
   "source": [
    "# 24.list of palindromes for a given range\n",
    "a = int(input(\"enter start number:\"))\n",
    "b = int(input(\"enter end number:\"))\n",
    "palindrome_list = [i for i in range(a,b) if str(i) == str(i)[::-1]]\n",
    "print(palindrome_list)\n",
    "                                                            "
   ]
  },
  {
   "cell_type": "code",
   "execution_count": 6,
   "id": "02401b66-7c89-4891-87f5-0fe06e0211e1",
   "metadata": {},
   "outputs": [
    {
     "name": "stdout",
     "output_type": "stream",
     "text": [
      "Nested List: [[1, 2, 3], [4, 5], [6, 7, 8]]\n",
      "Flat List: [1, 2, 3, 4, 5, 6, 7, 8]\n"
     ]
    }
   ],
   "source": [
    "#25. Write a program to flatten a nested list using list comprehension.\n",
    "nested_list = [[1, 2, 3], [4, 5], [6, 7, 8]]\n",
    "\n",
    "# Flatten the nested list using list comprehension\n",
    "flat_list = [element for sublist in nested_list for element in sublist]\n",
    "\n",
    "print(\"Nested List:\", nested_list)\n",
    "print(\"Flat List:\", flat_list)\n"
   ]
  },
  {
   "cell_type": "code",
   "execution_count": 5,
   "id": "9c2df193-44ac-45eb-80c3-e9de42568141",
   "metadata": {},
   "outputs": [
    {
     "name": "stdout",
     "output_type": "stream",
     "text": [
      "Sum of Even Numbers: 30\n",
      "Sum of Odd Numbers: 25\n"
     ]
    }
   ],
   "source": [
    "# 26. Develop a program that computes the sum of even and odd numbers in a list separately using list\n",
    "\n",
    "numbers = [1, 2, 3, 4, 5, 6, 7, 8, 9, 10]\n",
    "\n",
    "# Use list comprehensions to separate even and odd numbers\n",
    "even_numbers_sum = sum([x for x in numbers if x % 2 == 0])\n",
    "odd_numbers_sum = sum([x for x in numbers if x % 2 != 0])\n",
    "\n",
    "print(\"Sum of Even Numbers:\", even_numbers_sum)\n",
    "print(\"Sum of Odd Numbers:\", odd_numbers_sum )\n"
   ]
  },
  {
   "cell_type": "code",
   "execution_count": 7,
   "id": "687ba9e7-0776-440e-a4f6-283dac3b6271",
   "metadata": {},
   "outputs": [
    {
     "name": "stdout",
     "output_type": "stream",
     "text": [
      "Squares of Odd Numbers: [1, 9, 25, 49, 81]\n"
     ]
    }
   ],
   "source": [
    "#27. Generate a list of squares of odd numbers between 1 and 10 using list comprehension\n",
    "odd_squares = [x**2 for x in range(1, 11) if x % 2 != 0]\n",
    "\n",
    "# Print the list of squares of odd numbers\n",
    "print(\"Squares of Odd Numbers:\", odd_squares)\n"
   ]
  },
  {
   "cell_type": "code",
   "execution_count": 8,
   "id": "7bf8a853-f364-41f6-87a5-19735e037bc4",
   "metadata": {},
   "outputs": [
    {
     "name": "stdout",
     "output_type": "stream",
     "text": [
      "Combined Dictionary: {'name': 'vivek', 'age': 31, 'city': 'vizag'}\n"
     ]
    }
   ],
   "source": [
    "# 28. Write a program that combines two lists into a dictionary using list comprehension.\n",
    "keys = [\"name\", \"age\", \"city\"]\n",
    "values = [\"vivek\", 31, \"vizag\"]\n",
    "\n",
    "# Combine the two lists into a dictionary using list comprehension\n",
    "my_dict = {keys[i]: values[i] for i in range(len(keys))}\n",
    "\n",
    "# Print the resulting dictionary\n",
    "print(\"Combined Dictionary:\", my_dict)\n"
   ]
  },
  {
   "cell_type": "code",
   "execution_count": 9,
   "id": "1496eb04-e711-4df7-aee1-c2b0586391c0",
   "metadata": {},
   "outputs": [
    {
     "name": "stdout",
     "output_type": "stream",
     "text": [
      "Vowels in the String: ['e', 'o', 'o']\n"
     ]
    }
   ],
   "source": [
    "# 29. Develop a program that extracts the vowels from a string and stores them in a list using list comprehension.\n",
    "input_string = \"Hello, World!\"\n",
    "\n",
    "# Define a list of vowels\n",
    "vowels = \"AEIOUaeiou\"\n",
    "\n",
    "# Use list comprehension to extract vowels from the string\n",
    "vowel_list = [char for char in input_string if char in vowels]\n",
    "\n",
    "# Print the list of extracted vowels\n",
    "print(\"Vowels in the String:\", vowel_list)\n"
   ]
  },
  {
   "cell_type": "code",
   "execution_count": 10,
   "id": "beccbeb5-8836-47df-b545-956128afecdb",
   "metadata": {},
   "outputs": [
    {
     "name": "stdout",
     "output_type": "stream",
     "text": [
      "Original List of Strings: ['abc123', '45def', '6g7h', 'xyz']\n",
      "Numeric Strings: ['123', '45', '67', '']\n"
     ]
    }
   ],
   "source": [
    "# 30. Create a program that removes all non-numeric characters from a list of strings using list comprehension.\n",
    "string_list = [\"abc123\", \"45def\", \"6g7h\", \"xyz\"]\n",
    "\n",
    "# Use list comprehension to remove non-numeric characters\n",
    "numeric_strings = [''.join(char for char in string if char.isnumeric()) for string in string_list]\n",
    "\n",
    "# Print the list of strings with non-numeric characters removed\n",
    "print(\"Original List of Strings:\", string_list)\n",
    "print(\"Numeric Strings:\", numeric_strings)\n"
   ]
  },
  {
   "cell_type": "markdown",
   "id": "c82e5b6a-48f4-49ae-8a42-862fa7d88797",
   "metadata": {},
   "source": [
    "Challenge Level:"
   ]
  },
  {
   "cell_type": "code",
   "execution_count": 11,
   "id": "0ff3f52a-9e21-47eb-b43e-613e5ab30f5b",
   "metadata": {},
   "outputs": [
    {
     "name": "stdin",
     "output_type": "stream",
     "text": [
      "Enter the limit for prime numbers:  78\n"
     ]
    },
    {
     "name": "stdout",
     "output_type": "stream",
     "text": [
      "Prime Numbers up to 78 : [2, 3, 5, 7, 11, 13, 17, 19, 23, 29, 31, 37, 41, 43, 47, 53, 59, 61, 67, 71, 73]\n"
     ]
    }
   ],
   "source": [
    "#31. Write a program to generate a list of prime numbers using the Sieve of Eratosthenes algorithm and list\n",
    "\n",
    "def sieve_eratosthenes(limit):\n",
    "    # Create a list of boolean values initialized to True\n",
    "    sieve = [True] * (limit + 1)\n",
    "    sieve[0] = sieve[1] = False  # 0 and 1 are not prime\n",
    "\n",
    "    for current in range(2, int(limit**0.5) + 1):\n",
    "        if sieve[current]:\n",
    "            for multiple in range(current * current, limit + 1, current):\n",
    "                sieve[multiple] = False\n",
    "\n",
    "    # Use list comprehension to generate a list of prime numbers\n",
    "    primes = [number for number in range(2, limit + 1) if sieve[number]]\n",
    "\n",
    "    return primes\n",
    "\n",
    "# Input limit for prime number generation\n",
    "limit = int(input(\"Enter the limit for prime numbers: \"))\n",
    "\n",
    "# Generate and print the list of prime numbers\n",
    "prime_numbers = sieve_eratosthenes(limit)\n",
    "print(\"Prime Numbers up to\", limit, \":\", prime_numbers)\n"
   ]
  },
  {
   "cell_type": "code",
   "execution_count": 13,
   "id": "09742b94-6eb1-49e6-8354-6c6a4b78f9fe",
   "metadata": {},
   "outputs": [
    {
     "name": "stdin",
     "output_type": "stream",
     "text": [
      "Enter the limit for Pythagorean triplets:  20\n"
     ]
    },
    {
     "name": "stdout",
     "output_type": "stream",
     "text": [
      "Pythagorean Triplets up to 20 : [(3, 4, 5), (5, 12, 13), (6, 8, 10), (8, 15, 17), (9, 12, 15), (12, 16, 20)]\n"
     ]
    }
   ],
   "source": [
    "#32. Create a program that generates a list of all Pythagorean triplets up to a specified limit using list\n",
    "\n",
    "limit = int(input(\"Enter the limit for Pythagorean triplets: \"))\n",
    "\n",
    "# Generate a list of Pythagorean triplets using nested loops and list comprehension\n",
    "triplets = [(a, b, c) for a in range(1, limit + 1) for b in range(a, limit + 1) for c in range(b, limit + 1) if a**2 + b**2 == c**2]\n",
    "\n",
    "# Print the list of Pythagorean triplets\n",
    "print(\"Pythagorean Triplets up to\", limit, \":\", triplets)\n"
   ]
  },
  {
   "cell_type": "code",
   "execution_count": 2,
   "id": "df75ddbd-526b-4b5c-b04e-e7f501f56417",
   "metadata": {},
   "outputs": [
    {
     "name": "stdout",
     "output_type": "stream",
     "text": [
      "All Possible Combinations:\n",
      "(1, 'a')\n",
      "(1, 'b')\n",
      "(1, 'c')\n",
      "(2, 'a')\n",
      "(2, 'b')\n",
      "(2, 'c')\n",
      "(3, 'a')\n",
      "(3, 'b')\n",
      "(3, 'c')\n"
     ]
    }
   ],
   "source": [
    "# 33. Develop a program that generates a list of all possible combinations of two lists using list comprehension.\n",
    "list1 = [1, 2, 3]\n",
    "list2 = ['a', 'b', 'c']\n",
    "\n",
    "# Generate a list of all possible combinations using nested list comprehension\n",
    "combinations = [(x, y) for x in list1 for y in list2]\n",
    "\n",
    "# Print the list of combinations\n",
    "print(\"All Possible Combinations:\")\n",
    "for combination in combinations:\n",
    "    print(combination)\n"
   ]
  },
  {
   "cell_type": "code",
   "execution_count": 14,
   "id": "6c214a42-81dc-4cb3-bf1f-e014c6f689b7",
   "metadata": {},
   "outputs": [
    {
     "name": "stdout",
     "output_type": "stream",
     "text": [
      "All Possible Combinations (Original and Reverse):\n",
      "(1, 'a')\n",
      "(1, 'b')\n",
      "(1, 'c')\n",
      "(2, 'a')\n",
      "(2, 'b')\n",
      "(2, 'c')\n",
      "(3, 'a')\n",
      "(3, 'b')\n",
      "(3, 'c')\n",
      "('a', 1)\n",
      "('b', 1)\n",
      "('c', 1)\n",
      "('a', 2)\n",
      "('b', 2)\n",
      "('c', 2)\n",
      "('a', 3)\n",
      "('b', 3)\n",
      "('c', 3)\n"
     ]
    }
   ],
   "source": [
    "\n",
    "list1 = [1, 2, 3]\n",
    "list2 = ['a', 'b', 'c']\n",
    "\n",
    "# Generate a list of all possible combinations, including reverse order\n",
    "combinations = [(x, y) for x in list1 for y in list2] + [(y, x) for x in list1 for y in list2]\n",
    "\n",
    "# Print the list of combinations\n",
    "print(\"All Possible Combinations (Original and Reverse):\")\n",
    "for combination in combinations:\n",
    "    print(combination)\n"
   ]
  },
  {
   "cell_type": "code",
   "execution_count": 4,
   "id": "35895fb8-732f-4a9b-b456-0d001a31efe3",
   "metadata": {},
   "outputs": [
    {
     "name": "stdout",
     "output_type": "stream",
     "text": [
      "List of Numbers: [5, 2, 7, 2, 8, 4, 2, 6, 5, 9]\n",
      "Mean: 5.0\n",
      "Median: 5.0\n",
      "Mode: [2]\n"
     ]
    }
   ],
   "source": [
    "#34. Write a program that calculates the mean, median, and mode of a list of numbers using list\n",
    "\n",
    "from collections import Counter\n",
    "import statistics\n",
    "\n",
    "# Input list of numbers\n",
    "numbers = [5, 2, 7, 2, 8, 4, 2, 6, 5, 9]\n",
    "\n",
    "# Calculate the mean using list comprehension\n",
    "mean = sum(numbers) / len(numbers)\n",
    "\n",
    "# Calculate the median using list comprehension and the sorted function\n",
    "sorted_numbers = sorted(numbers)\n",
    "median = sorted_numbers[len(numbers) // 2] if len(numbers) % 2 != 0 else (sorted_numbers[len(numbers) // 2 - 1] + sorted_numbers[len(numbers) // 2]) / 2\n",
    "\n",
    "# Calculate the mode using the Counter class from collections\n",
    "number_counts = Counter(numbers)\n",
    "mode = [num for num, count in number_counts.items() if count == max(number_counts.values())]\n",
    "\n",
    "# Print the results\n",
    "print(\"List of Numbers:\", numbers)\n",
    "print(\"Mean:\", mean)\n",
    "print(\"Median:\", median)\n",
    "print(\"Mode:\", mode)\n"
   ]
  },
  {
   "cell_type": "code",
   "execution_count": 15,
   "id": "33b38e8f-9f1b-4100-a17b-b4076bda9b3f",
   "metadata": {},
   "outputs": [
    {
     "name": "stdin",
     "output_type": "stream",
     "text": [
      "Enter the number of rows for Pascal's triangle:  4\n"
     ]
    },
    {
     "name": "stdout",
     "output_type": "stream",
     "text": [
      "Pascal's Triangle:\n",
      "[1]\n",
      "[1, 1]\n",
      "[1, 2, 1]\n",
      "[1, 3, 3, 1]\n"
     ]
    }
   ],
   "source": [
    "#35. Create a program that generates Pascal's triangle up to a specified number of rows using list\n",
    "\n",
    "def generate_pascals_triangle(num_rows):\n",
    "    triangle = []\n",
    "\n",
    "    for row_num in range(num_rows):\n",
    "        if row_num == 0:\n",
    "            row = [1]\n",
    "        else:\n",
    "            # Use list comprehension to generate each row\n",
    "            row = [1] + [row[i - 1] + row[i] for i in range(1, row_num)] + [1]\n",
    "        triangle.append(row)\n",
    "\n",
    "    return triangle\n",
    "\n",
    "# Input the number of rows for Pascal's triangle\n",
    "num_rows = int(input(\"Enter the number of rows for Pascal's triangle: \"))\n",
    "\n",
    "# Generate and print Pascal's triangle\n",
    "pascals_triangle = generate_pascals_triangle(num_rows)\n",
    "\n",
    "print(\"Pascal's Triangle:\")\n",
    "for row in pascals_triangle:\n",
    "    print(row)\n"
   ]
  },
  {
   "cell_type": "code",
   "execution_count": 20,
   "id": "fd6bc437-05e1-4eec-a245-68d1289a9be4",
   "metadata": {},
   "outputs": [
    {
     "name": "stdin",
     "output_type": "stream",
     "text": [
      "Enter the starting number:  1\n",
      "Enter the ending number:  6\n"
     ]
    },
    {
     "name": "stdout",
     "output_type": "stream",
     "text": [
      "[(1, 1), (2, 2), (3, 6), (4, 6), (5, 3), (6, 9)]\n"
     ]
    }
   ],
   "source": [
    "#36. Develop a program that calculates the sum of the digits of a factorial of numbers from 1 to 5 using list\n",
    "# Function to calculate the factorial of a number\n",
    "\n",
    "def factorial(n):\n",
    "    result = 1\n",
    "    for i in range(1, n + 1):\n",
    "        result *= i\n",
    "    return result\n",
    "\n",
    "# Get the range from the user\n",
    "start = int(input(\"Enter the starting number: \"))\n",
    "end = int(input(\"Enter the ending number: \"))\n",
    "\n",
    "# Initialize an empty list to store results\n",
    "results = []\n",
    "\n",
    "# Calculate the sum of digits for each factorial in the given range and store in the list\n",
    "for num in range(start, end + 1):\n",
    "    fact = factorial(num)\n",
    "    digit_sum = 0\n",
    "    for digit in str(fact):\n",
    "        digit_sum += int(digit)\n",
    "    results.append((num, digit_sum))\n",
    "\n",
    "# Print the results in list format\n",
    "print(results)\n",
    "\n",
    "  \n",
    "\n"
   ]
  },
  {
   "cell_type": "code",
   "execution_count": 22,
   "id": "b70b5de7-f012-41f1-bd79-7eea5a2056b8",
   "metadata": {},
   "outputs": [
    {
     "name": "stdout",
     "output_type": "stream",
     "text": [
      "[1, 2, 6, 6, 3]\n"
     ]
    }
   ],
   "source": [
    "# for problem 36 alternate solution using math package\n",
    "import math\n",
    "\n",
    "factorial_sums = [sum(int(digit) for digit in str(math.factorial(n))) for n in range(1, 6)]\n",
    "print(factorial_sums)\n"
   ]
  },
  {
   "cell_type": "code",
   "execution_count": 24,
   "id": "9ab177d9-ff49-4a98-b429-1233467722cb",
   "metadata": {},
   "outputs": [
    {
     "name": "stdout",
     "output_type": "stream",
     "text": [
      "sentence\n"
     ]
    }
   ],
   "source": [
    "#37. Find the longest word in a sentence:\n",
    "\n",
    "sentence = \"This is an sample sentence for finding the longest word.\"\n",
    "longest_word = max((word for word in sentence.split() if word.isalpha()), key=len)\n",
    "print(longest_word)\n",
    "\n"
   ]
  },
  {
   "cell_type": "code",
   "execution_count": 28,
   "id": "237e60c7-77c3-486f-a03b-4c83a4d0bea3",
   "metadata": {},
   "outputs": [
    {
     "name": "stdout",
     "output_type": "stream",
     "text": [
      "['banana cake', 'unanimous']\n"
     ]
    }
   ],
   "source": [
    "#38. Filter a list of strings to include only those with more than three vowels:\n",
    "strings = [\"apple\", \"banana cake\", \"cherry\", \"date\", \"elephant\", \"fig\", \"grape\",\"unanimous\"]\n",
    "filtered_strings = [word for word in strings if sum(1 for letter in word if letter.lower() in 'aeiou') > 3]\n",
    "print(filtered_strings)\n"
   ]
  },
  {
   "cell_type": "code",
   "execution_count": 29,
   "id": "0d755424-869b-40f9-b928-690aada1d3ff",
   "metadata": {},
   "outputs": [
    {
     "name": "stdout",
     "output_type": "stream",
     "text": [
      "[1, 2, 3, 4, 5, 6, 7, 8, 9, 1, 2, 3, 4, 5, 6, 7, 8, 9, 10, 2, 3, 4, 5, 6, 7, 8, 9, 10, 11, 3, 4, 5, 6, 7, 8, 9, 10, 11, 12, 4, 5, 6, 7, 8, 9, 10, 11, 12, 13, 5, 6, 7, 8, 9, 10, 11, 12, 13, 14, 6, 7, 8, 9, 10, 11, 12, 13, 14, 15, 7, 8, 9, 10, 11, 12, 13, 14, 15, 16, 8, 9, 10, 11, 12, 13, 14, 15, 16, 17, 9, 10, 11, 12, 13, 14, 15, 16, 17, 18, 1, 2, 3, 4, 5, 6, 7, 8, 9, 10, 2, 3, 4, 5, 6, 7, 8, 9, 10, 11, 3, 4, 5, 6, 7, 8, 9, 10, 11, 12, 4, 5, 6, 7, 8, 9, 10, 11, 12, 13, 5, 6, 7, 8, 9, 10, 11, 12, 13, 14, 6, 7, 8, 9, 10, 11, 12, 13, 14, 15, 7, 8, 9, 10, 11, 12, 13, 14, 15, 16, 8, 9, 10, 11, 12, 13, 14, 15, 16, 17, 9, 10, 11, 12, 13, 14, 15, 16, 17, 18, 10, 11, 12, 13, 14, 15, 16, 17, 18, 19, 2, 3, 4, 5, 6, 7, 8, 9, 10, 11, 3, 4, 5, 6, 7, 8, 9, 10, 11, 12, 4, 5, 6, 7, 8, 9, 10, 11, 12, 13, 5, 6, 7, 8, 9, 10, 11, 12, 13, 14, 6, 7, 8, 9, 10, 11, 12, 13, 14, 15, 7, 8, 9, 10, 11, 12, 13, 14, 15, 16, 8, 9, 10, 11, 12, 13, 14, 15, 16, 17, 9, 10, 11, 12, 13, 14, 15, 16, 17, 18, 10, 11, 12, 13, 14, 15, 16, 17, 18, 19, 11, 12, 13, 14, 15, 16, 17, 18, 19, 20, 3, 4, 5, 6, 7, 8, 9, 10, 11, 12, 4, 5, 6, 7, 8, 9, 10, 11, 12, 13, 5, 6, 7, 8, 9, 10, 11, 12, 13, 14, 6, 7, 8, 9, 10, 11, 12, 13, 14, 15, 7, 8, 9, 10, 11, 12, 13, 14, 15, 16, 8, 9, 10, 11, 12, 13, 14, 15, 16, 17, 9, 10, 11, 12, 13, 14, 15, 16, 17, 18, 10, 11, 12, 13, 14, 15, 16, 17, 18, 19, 11, 12, 13, 14, 15, 16, 17, 18, 19, 20, 12, 13, 14, 15, 16, 17, 18, 19, 20, 21, 4, 5, 6, 7, 8, 9, 10, 11, 12, 13, 5, 6, 7, 8, 9, 10, 11, 12, 13, 14, 6, 7, 8, 9, 10, 11, 12, 13, 14, 15, 7, 8, 9, 10, 11, 12, 13, 14, 15, 16, 8, 9, 10, 11, 12, 13, 14, 15, 16, 17, 9, 10, 11, 12, 13, 14, 15, 16, 17, 18, 10, 11, 12, 13, 14, 15, 16, 17, 18, 19, 11, 12, 13, 14, 15, 16, 17, 18, 19, 20, 12, 13, 14, 15, 16, 17, 18, 19, 20, 21, 13, 14, 15, 16, 17, 18, 19, 20, 21, 22, 5, 6, 7, 8, 9, 10, 11, 12, 13, 14, 6, 7, 8, 9, 10, 11, 12, 13, 14, 15, 7, 8, 9, 10, 11, 12, 13, 14, 15, 16, 8, 9, 10, 11, 12, 13, 14, 15, 16, 17, 9, 10, 11, 12, 13, 14, 15, 16, 17, 18, 10, 11, 12, 13, 14, 15, 16, 17, 18, 19, 11, 12, 13, 14, 15, 16, 17, 18, 19, 20, 12, 13, 14, 15, 16, 17, 18, 19, 20, 21, 13, 14, 15, 16, 17, 18, 19, 20, 21, 22, 14, 15, 16, 17, 18, 19, 20, 21, 22, 23, 6, 7, 8, 9, 10, 11, 12, 13, 14, 15, 7, 8, 9, 10, 11, 12, 13, 14, 15, 16, 8, 9, 10, 11, 12, 13, 14, 15, 16, 17, 9, 10, 11, 12, 13, 14, 15, 16, 17, 18, 10, 11, 12, 13, 14, 15, 16, 17, 18, 19, 11, 12, 13, 14, 15, 16, 17, 18, 19, 20, 12, 13, 14, 15, 16, 17, 18, 19, 20, 21, 13, 14, 15, 16, 17, 18, 19, 20, 21, 22, 14, 15, 16, 17, 18, 19, 20, 21, 22, 23, 15, 16, 17, 18, 19, 20, 21, 22, 23, 24, 7, 8, 9, 10, 11, 12, 13, 14, 15, 16, 8, 9, 10, 11, 12, 13, 14, 15, 16, 17, 9, 10, 11, 12, 13, 14, 15, 16, 17, 18, 10, 11, 12, 13, 14, 15, 16, 17, 18, 19, 11, 12, 13, 14, 15, 16, 17, 18, 19, 20, 12, 13, 14, 15, 16, 17, 18, 19, 20, 21, 13, 14, 15, 16, 17, 18, 19, 20, 21, 22, 14, 15, 16, 17, 18, 19, 20, 21, 22, 23, 15, 16, 17, 18, 19, 20, 21, 22, 23, 24, 16, 17, 18, 19, 20, 21, 22, 23, 24, 25, 8, 9, 10, 11, 12, 13, 14, 15, 16, 17, 9, 10, 11, 12, 13, 14, 15, 16, 17, 18, 10, 11, 12, 13, 14, 15, 16, 17, 18, 19, 11, 12, 13, 14, 15, 16, 17, 18, 19, 20, 12, 13, 14, 15, 16, 17, 18, 19, 20, 21, 13, 14, 15, 16, 17, 18, 19, 20, 21, 22, 14, 15, 16, 17, 18, 19, 20, 21, 22, 23, 15, 16, 17, 18, 19, 20, 21, 22, 23, 24, 16, 17, 18, 19, 20, 21, 22, 23, 24, 25, 17, 18, 19, 20, 21, 22, 23, 24, 25, 26, 9, 10, 11, 12, 13, 14, 15, 16, 17, 18, 10, 11, 12, 13, 14, 15, 16, 17, 18, 19, 11, 12, 13, 14, 15, 16, 17, 18, 19, 20, 12, 13, 14, 15, 16, 17, 18, 19, 20, 21, 13, 14, 15, 16, 17, 18, 19, 20, 21, 22, 14, 15, 16, 17, 18, 19, 20, 21, 22, 23, 15, 16, 17, 18, 19, 20, 21, 22, 23, 24, 16, 17, 18, 19, 20, 21, 22, 23, 24, 25, 17, 18, 19, 20, 21, 22, 23, 24, 25, 26, 18, 19, 20, 21, 22, 23, 24, 25, 26, 27, 1]\n"
     ]
    }
   ],
   "source": [
    "#39. Calculate the sum of the digits of numbers from 1 to 1000:\n",
    "digit_sums = [sum(int(digit) for digit in str(n)) for n in range(1, 1001)]\n",
    "print(digit_sums)\n"
   ]
  },
  {
   "cell_type": "code",
   "execution_count": 30,
   "id": "c29c3ff7-d4a4-4e8b-8593-39ea2c41634c",
   "metadata": {},
   "outputs": [
    {
     "name": "stdout",
     "output_type": "stream",
     "text": [
      "[2, 3, 5, 7, 11, 101, 131, 151, 181, 191, 313, 353, 373, 383, 727, 757, 787, 797, 919, 929]\n"
     ]
    }
   ],
   "source": [
    "#40. Generate a list of prime palindromic numbers:\n",
    "def is_prime(num):\n",
    "    if num < 2:\n",
    "        return False\n",
    "    for i in range(2, int(num**0.5) + 1):\n",
    "        if num % i == 0:\n",
    "            return False\n",
    "    return True\n",
    "\n",
    "def is_palindrome(num):\n",
    "    return str(num) == str(num)[::-1]\n",
    "\n",
    "prime_palindromes = [num for num in range(1, 1001) if is_prime(num) and is_palindrome(num)]\n",
    "print(prime_palindromes)\n"
   ]
  },
  {
   "cell_type": "code",
   "execution_count": null,
   "id": "c96cb703-2b52-421c-ba85-b50fa0c1c7b6",
   "metadata": {},
   "outputs": [],
   "source": []
  }
 ],
 "metadata": {
  "kernelspec": {
   "display_name": "Python 3 (ipykernel)",
   "language": "python",
   "name": "python3"
  },
  "language_info": {
   "codemirror_mode": {
    "name": "ipython",
    "version": 3
   },
   "file_extension": ".py",
   "mimetype": "text/x-python",
   "name": "python",
   "nbconvert_exporter": "python",
   "pygments_lexer": "ipython3",
   "version": "3.10.8"
  }
 },
 "nbformat": 4,
 "nbformat_minor": 5
}
